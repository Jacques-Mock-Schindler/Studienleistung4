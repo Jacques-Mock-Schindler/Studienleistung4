{
 "cells": [
  {
   "cell_type": "markdown",
   "metadata": {
    "id": "lrE1Y2EzfJnS"
   },
   "source": [
    "\n",
    "# Aufgabe zur Rekursion"
   ]
  },
  {
   "cell_type": "markdown",
   "metadata": {
    "id": "rxEAl_gvfcKq"
   },
   "source": [
    "## Aufgabe zur Rekursion\n",
    "\n",
    "Implementieren Sie die Gausssche Summenformel nach ihrer rekursiven Definition.\n",
    "\n",
    "$$\n",
    "\\sum_{k=1}^{n}k=\n",
    "\\left\\{\n",
    "    \\begin{array}{lll}\n",
    "        1,&n=1&\\text{Basisfall}\\\\\n",
    "        n+\\sum_{k=1}^{n-1}k,&\\forall n > 1&\\text{Rekursionsfall}\n",
    "    \\end{array}\n",
    "\\right.\n",
    "$$\n",
    "\n",
    "Zeigen Sie durch den Aufruf von der Funktion `print(f'...')` an geeigneten Stellen, wie der *call stack* auf- und wieder abgebaut wird."
   ]
  },
  {
   "cell_type": "code",
   "execution_count": null,
   "metadata": {
    "id": "lXsk9igzfEER"
   },
   "outputs": [],
   "source": [
    "def gauss_rec(n : int) -> int:\n",
    "    \"\"\"Rekursive Implementation der Gaussschen Summenformel\n",
    "\n",
    "    Diese Funktion berechnet die Summe der ersten n natürlichen Zahlen. Sie\n",
    "    zeigt mit den verschiedenen print() Funktionen, wie der call stack auf-\n",
    "    und wieder abgebaut wird.\n",
    "\n",
    "    Args:\n",
    "        n (int): Die natürliche Zahl bis und mit welcher die Summe\n",
    "        gebildet wird.\n",
    "\n",
    "    Returns:\n",
    "        Die Summe aller n natürlichen Zahlen als natürliche Zahl.\n",
    "    \"\"\"\n",
    "\n",
    "    # TODO: Implementieren Sie gauss_rec gemäss den Vorgaben\n",
    "    pass"
   ]
  },
  {
   "cell_type": "code",
   "execution_count": null,
   "metadata": {
    "id": "iflLald6ipPC"
   },
   "outputs": [],
   "source": [
    "print(gauss_rec(3))"
   ]
  },
  {
   "cell_type": "markdown",
   "metadata": {
    "id": "fnfIPuyZn8km"
   },
   "source": [
    "## Aufgabe zur direkten Implementation"
   ]
  },
  {
   "cell_type": "markdown",
   "metadata": {
    "id": "YVE1zMP_mG93"
   },
   "source": [
    "Stellen Sie der rekursiven Implementation die Implementation nach der Formel\n",
    "\n",
    "$$\n",
    "\\sum_{k=1}^{n} k = \\frac{n(n+1)}{2}\n",
    "$$\n",
    "\n",
    "gegenüber. Zeigen Sie auch hier durch den Aufruf der Funktion `print(f'...')` an geeigneten Stellen die Auslastung des call stack.\n"
   ]
  },
  {
   "cell_type": "code",
   "execution_count": null,
   "metadata": {
    "id": "hz277xspmZjY"
   },
   "outputs": [],
   "source": [
    "def gauss_direct(n : int) -> int:\n",
    "    \"\"\"Direkte Implementierung der Gaussschen Summenformel\n",
    "\n",
    "    Diese Funktion berechnet die Summe der ersten n natürlichen Zahlen.\n",
    "    Sie zeigt mit geeigneten print() Funktionen den Speicherbedarf.\n",
    "\n",
    "    Args:\n",
    "        n (int): Die natürliche Zahl bis und mit welcher die Summe\n",
    "        gebildet wird.\n",
    "\n",
    "    Returns:\n",
    "        Die Summe aller n natürlichen Zahlen als natürliche Zahl.\n",
    "    \"\"\"\n",
    "\n",
    "    # TODO: implementieren Sie gauss_direct gemäss den Vorgaben\n",
    "    pass"
   ]
  },
  {
   "cell_type": "code",
   "execution_count": null,
   "metadata": {
    "id": "WCY3pxYwm6Bq"
   },
   "outputs": [],
   "source": [
    "print(gauss_direct(3))"
   ]
  }
 ],
 "metadata": {
  "colab": {
   "authorship_tag": "ABX9TyOlZt25abutpv60LzeROxe2",
   "provenance": []
  },
  "kernelspec": {
   "display_name": "Python 3 (ipykernel)",
   "language": "python",
   "name": "python3"
  },
  "language_info": {
   "codemirror_mode": {
    "name": "ipython",
    "version": 3
   },
   "file_extension": ".py",
   "mimetype": "text/x-python",
   "name": "python",
   "nbconvert_exporter": "python",
   "pygments_lexer": "ipython3",
   "version": "3.11.5"
  }
 },
 "nbformat": 4,
 "nbformat_minor": 1
}
